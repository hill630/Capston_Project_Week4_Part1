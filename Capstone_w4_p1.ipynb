{
 "cells": [
  {
   "cell_type": "markdown",
   "metadata": {},
   "source": [
    "# 1. Introduction"
   ]
  },
  {
   "cell_type": "markdown",
   "metadata": {},
   "source": [
    "## Background\n",
    "\n",
    "I was recently offered two jobs: one is based Miami, FL; the other is based in Columbia, SC. I'm really torn on which job to take given that: \n",
    "1. both jobs are with reputable companies;\n",
    "2. both jobs are great fit for my background and experience, where I can continue doing what I've been trained for and becoming good at;\n",
    "3. the people that I'd report to at both companies are very respectable and easy to get along with\n",
    "4. one is a well-established multinational firm, the other is a regional leading firm but I will have more exposure to senior management\n",
    "4. both offer competitive pays\n",
    "\n",
    "Since I'm having a hard time making a decision solely based on the aspect of career progression between the two job offers, I'm going to leverage what I have learned in the machine learning module and the previous Capstone project to look at the dining and entertainment options in both locations. Hopefully, this can help me to make a more informed decision."
   ]
  },
  {
   "cell_type": "code",
   "execution_count": 2,
   "metadata": {
    "collapsed": false
   },
   "outputs": [
    {
     "name": "stdout",
     "output_type": "stream",
     "text": [
      "Libraries imported.\n"
     ]
    }
   ],
   "source": [
    "import numpy as np # library to handle data in a vectorized manner\n",
    "\n",
    "import pandas as pd # library for data analsysis\n",
    "pd.set_option('display.max_columns', None)\n",
    "pd.set_option('display.max_rows', None)\n",
    "\n",
    "import json # library to handle JSON files\n",
    "\n",
    "#!conda install -c conda-forge geopy --yes # uncomment this line if you haven't completed the Foursquare API lab\n",
    "from geopy.geocoders import Nominatim # convert an address into latitude and longitude values\n",
    "\n",
    "import requests # library to handle requests\n",
    "from pandas.io.json import json_normalize # tranform JSON file into a pandas dataframe\n",
    "\n",
    "# Matplotlib and associated plotting modules\n",
    "import matplotlib.cm as cm\n",
    "import matplotlib.colors as colors\n",
    "\n",
    "# import k-means from clustering stage\n",
    "from sklearn.cluster import KMeans\n",
    "\n",
    "#!conda install -c conda-forge folium=0.5.0 --yes # uncomment this line if you haven't completed the Foursquare API lab\n",
    "import folium # map rendering library\n",
    "\n",
    "print('Libraries imported.')"
   ]
  },
  {
   "cell_type": "markdown",
   "metadata": {},
   "source": [
    "# 2. Data\n"
   ]
  },
  {
   "cell_type": "markdown",
   "metadata": {},
   "source": [
    "In this section, I'm going to get the location for the two cities: Miami and Columbia."
   ]
  },
  {
   "cell_type": "markdown",
   "metadata": {},
   "source": [
    "## 2.1 Get neighborhood information for Miami, FL"
   ]
  },
  {
   "cell_type": "markdown",
   "metadata": {},
   "source": [
    "### 2.1.1 Get coordinates for Miami"
   ]
  },
  {
   "cell_type": "code",
   "execution_count": 3,
   "metadata": {},
   "outputs": [
    {
     "data": {
      "text/html": [
       "<div>\n",
       "<style scoped>\n",
       "    .dataframe tbody tr th:only-of-type {\n",
       "        vertical-align: middle;\n",
       "    }\n",
       "\n",
       "    .dataframe tbody tr th {\n",
       "        vertical-align: top;\n",
       "    }\n",
       "\n",
       "    .dataframe thead th {\n",
       "        text-align: right;\n",
       "    }\n",
       "</style>\n",
       "<table border=\"1\" class=\"dataframe\">\n",
       "  <thead>\n",
       "    <tr style=\"text-align: right;\">\n",
       "      <th></th>\n",
       "      <th>Neighborhood</th>\n",
       "      <th>Demonym</th>\n",
       "      <th>Population2010</th>\n",
       "      <th>Population/Km²</th>\n",
       "      <th>Sub-neighborhoods</th>\n",
       "      <th>Coordinates</th>\n",
       "    </tr>\n",
       "  </thead>\n",
       "  <tbody>\n",
       "    <tr>\n",
       "      <th>0</th>\n",
       "      <td>Allapattah</td>\n",
       "      <td>NaN</td>\n",
       "      <td>54289</td>\n",
       "      <td>4401</td>\n",
       "      <td>NaN</td>\n",
       "      <td>25.815-80.224</td>\n",
       "    </tr>\n",
       "    <tr>\n",
       "      <th>1</th>\n",
       "      <td>Arts &amp; Entertainment District</td>\n",
       "      <td>NaN</td>\n",
       "      <td>11033</td>\n",
       "      <td>7948</td>\n",
       "      <td>NaN</td>\n",
       "      <td>25.799-80.190</td>\n",
       "    </tr>\n",
       "    <tr>\n",
       "      <th>2</th>\n",
       "      <td>Brickell</td>\n",
       "      <td>Brickellite</td>\n",
       "      <td>31759</td>\n",
       "      <td>14541</td>\n",
       "      <td>West Brickell</td>\n",
       "      <td>25.758-80.193</td>\n",
       "    </tr>\n",
       "    <tr>\n",
       "      <th>3</th>\n",
       "      <td>Buena Vista</td>\n",
       "      <td>NaN</td>\n",
       "      <td>9058</td>\n",
       "      <td>3540</td>\n",
       "      <td>Buena Vista East Historic District and Design ...</td>\n",
       "      <td>25.813-80.192</td>\n",
       "    </tr>\n",
       "    <tr>\n",
       "      <th>4</th>\n",
       "      <td>Coconut Grove</td>\n",
       "      <td>Grovite</td>\n",
       "      <td>20076</td>\n",
       "      <td>3091</td>\n",
       "      <td>Center Grove, Northeast Coconut Grove, Southwe...</td>\n",
       "      <td>25.712-80.257</td>\n",
       "    </tr>\n",
       "  </tbody>\n",
       "</table>\n",
       "</div>"
      ],
      "text/plain": [
       "                    Neighborhood      Demonym Population2010 Population/Km²  \\\n",
       "0                     Allapattah          NaN          54289           4401   \n",
       "1  Arts & Entertainment District          NaN          11033           7948   \n",
       "2                       Brickell  Brickellite          31759          14541   \n",
       "3                    Buena Vista          NaN           9058           3540   \n",
       "4                  Coconut Grove      Grovite          20076           3091   \n",
       "\n",
       "                                   Sub-neighborhoods    Coordinates  \n",
       "0                                                NaN  25.815-80.224  \n",
       "1                                                NaN  25.799-80.190  \n",
       "2                                      West Brickell  25.758-80.193  \n",
       "3  Buena Vista East Historic District and Design ...  25.813-80.192  \n",
       "4  Center Grove, Northeast Coconut Grove, Southwe...  25.712-80.257  "
      ]
     },
     "execution_count": 3,
     "metadata": {},
     "output_type": "execute_result"
    }
   ],
   "source": [
    "miami = pd.read_html('https://en.wikipedia.org/wiki/List_of_neighborhoods_in_Miami')\n",
    "\n",
    "miami = miami[0]\n",
    "miami = miami.drop([11,25])\n",
    "miami.head()"
   ]
  },
  {
   "cell_type": "markdown",
   "metadata": {},
   "source": [
    "### 2.1.2 Split coordinates into latitude and longitude"
   ]
  },
  {
   "cell_type": "code",
   "execution_count": 4,
   "metadata": {},
   "outputs": [
    {
     "data": {
      "text/html": [
       "<div>\n",
       "<style scoped>\n",
       "    .dataframe tbody tr th:only-of-type {\n",
       "        vertical-align: middle;\n",
       "    }\n",
       "\n",
       "    .dataframe tbody tr th {\n",
       "        vertical-align: top;\n",
       "    }\n",
       "\n",
       "    .dataframe thead th {\n",
       "        text-align: right;\n",
       "    }\n",
       "</style>\n",
       "<table border=\"1\" class=\"dataframe\">\n",
       "  <thead>\n",
       "    <tr style=\"text-align: right;\">\n",
       "      <th></th>\n",
       "      <th>Neighborhood</th>\n",
       "      <th>Demonym</th>\n",
       "      <th>Population2010</th>\n",
       "      <th>Population/Km²</th>\n",
       "      <th>Sub-neighborhoods</th>\n",
       "      <th>Coordinates</th>\n",
       "      <th>Lat</th>\n",
       "      <th>Lng</th>\n",
       "    </tr>\n",
       "  </thead>\n",
       "  <tbody>\n",
       "    <tr>\n",
       "      <th>0</th>\n",
       "      <td>Allapattah</td>\n",
       "      <td>NaN</td>\n",
       "      <td>54289</td>\n",
       "      <td>4401</td>\n",
       "      <td>NaN</td>\n",
       "      <td>25.815-80.224</td>\n",
       "      <td>25.815</td>\n",
       "      <td>-80.224</td>\n",
       "    </tr>\n",
       "    <tr>\n",
       "      <th>1</th>\n",
       "      <td>Arts &amp; Entertainment District</td>\n",
       "      <td>NaN</td>\n",
       "      <td>11033</td>\n",
       "      <td>7948</td>\n",
       "      <td>NaN</td>\n",
       "      <td>25.799-80.190</td>\n",
       "      <td>25.799</td>\n",
       "      <td>-80.190</td>\n",
       "    </tr>\n",
       "    <tr>\n",
       "      <th>2</th>\n",
       "      <td>Brickell</td>\n",
       "      <td>Brickellite</td>\n",
       "      <td>31759</td>\n",
       "      <td>14541</td>\n",
       "      <td>West Brickell</td>\n",
       "      <td>25.758-80.193</td>\n",
       "      <td>25.758</td>\n",
       "      <td>-80.193</td>\n",
       "    </tr>\n",
       "    <tr>\n",
       "      <th>3</th>\n",
       "      <td>Buena Vista</td>\n",
       "      <td>NaN</td>\n",
       "      <td>9058</td>\n",
       "      <td>3540</td>\n",
       "      <td>Buena Vista East Historic District and Design ...</td>\n",
       "      <td>25.813-80.192</td>\n",
       "      <td>25.813</td>\n",
       "      <td>-80.192</td>\n",
       "    </tr>\n",
       "    <tr>\n",
       "      <th>4</th>\n",
       "      <td>Coconut Grove</td>\n",
       "      <td>Grovite</td>\n",
       "      <td>20076</td>\n",
       "      <td>3091</td>\n",
       "      <td>Center Grove, Northeast Coconut Grove, Southwe...</td>\n",
       "      <td>25.712-80.257</td>\n",
       "      <td>25.712</td>\n",
       "      <td>-80.257</td>\n",
       "    </tr>\n",
       "  </tbody>\n",
       "</table>\n",
       "</div>"
      ],
      "text/plain": [
       "                    Neighborhood      Demonym Population2010 Population/Km²  \\\n",
       "0                     Allapattah          NaN          54289           4401   \n",
       "1  Arts & Entertainment District          NaN          11033           7948   \n",
       "2                       Brickell  Brickellite          31759          14541   \n",
       "3                    Buena Vista          NaN           9058           3540   \n",
       "4                  Coconut Grove      Grovite          20076           3091   \n",
       "\n",
       "                                   Sub-neighborhoods    Coordinates     Lat  \\\n",
       "0                                                NaN  25.815-80.224  25.815   \n",
       "1                                                NaN  25.799-80.190  25.799   \n",
       "2                                      West Brickell  25.758-80.193  25.758   \n",
       "3  Buena Vista East Historic District and Design ...  25.813-80.192  25.813   \n",
       "4  Center Grove, Northeast Coconut Grove, Southwe...  25.712-80.257  25.712   \n",
       "\n",
       "      Lng  \n",
       "0 -80.224  \n",
       "1 -80.190  \n",
       "2 -80.193  \n",
       "3 -80.192  \n",
       "4 -80.257  "
      ]
     },
     "execution_count": 4,
     "metadata": {},
     "output_type": "execute_result"
    }
   ],
   "source": [
    "for index, row in miami.iterrows():\n",
    "    miami.loc[index,'Lat'] = miami.Coordinates[index].split('-')[0]\n",
    "    miami.loc[index,'Lng'] = '-'+miami.Coordinates[index].split('-')[1]\n",
    "\n",
    "miami.Lat = miami.Lat.astype(float)\n",
    "miami.Lng = miami.Lng.astype(float)\n",
    "miami.head()"
   ]
  },
  {
   "cell_type": "markdown",
   "metadata": {},
   "source": [
    "### 2.1.3 Generate a map for the neighborhoods with available coordiates for Miami, FL"
   ]
  },
  {
   "cell_type": "code",
   "execution_count": 9,
   "metadata": {
    "collapsed": false
   },
   "outputs": [
    {
     "name": "stdout",
     "output_type": "stream",
     "text": [
      "The geograpical coordinate of Miami are 25.7742658, -80.1936589.\n"
     ]
    }
   ],
   "source": [
    "# Note: the geolocator can be unstable sometimes, refresh the code multiple times if needed\n",
    "address = 'Miami, FL'\n",
    "\n",
    "geolocator = Nominatim(user_agent=\"hw\")\n",
    "location = geolocator.geocode(address)\n",
    "latitude = location.latitude\n",
    "longitude = location.longitude\n",
    "print('The geograpical coordinate of Miami are {}, {}.'.format(latitude, longitude))"
   ]
  },
  {
   "cell_type": "code",
   "execution_count": 10,
   "metadata": {
    "collapsed": false
   },
   "outputs": [
    {
     "data": {
      "text/html": [
       "<div style=\"width:100%;\"><div style=\"position:relative;width:100%;height:0;padding-bottom:60%;\"><iframe src=\"data:text/html;charset=utf-8;base64,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\" style=\"position:absolute;width:100%;height:100%;left:0;top:0;border:none !important;\" allowfullscreen webkitallowfullscreen mozallowfullscreen></iframe></div></div>"
      ],
      "text/plain": [
       "<folium.folium.Map at 0x7f38980bb6a0>"
      ]
     },
     "execution_count": 10,
     "metadata": {},
     "output_type": "execute_result"
    }
   ],
   "source": [
    "\n",
    "map_miami = folium.Map(location=[latitude, longitude], zoom_start=10)\n",
    "\n",
    "# add markers to map\n",
    "for lat, lng, label in zip(miami['Lat'], miami['Lng'], miami['Neighborhood']):\n",
    "    \n",
    "    label = folium.Popup(label, parse_html=True)\n",
    "    folium.CircleMarker(\n",
    "        [lat, lng],\n",
    "        radius=5,\n",
    "        popup=label,\n",
    "        color='blue',\n",
    "        fill=True,\n",
    "        fill_color='#3186cc',\n",
    "        fill_opacity=0.7,\n",
    "        parse_html=False).add_to(map_miami)  \n",
    "    \n",
    "map_miami"
   ]
  },
  {
   "cell_type": "markdown",
   "metadata": {},
   "source": [
    "## 2.2 Get neighborhood data for Columbia, SC"
   ]
  },
  {
   "cell_type": "markdown",
   "metadata": {},
   "source": [
    "### 2.2.1 Get coordinates for Columbia\n",
    "\n",
    "Since I couldn't find any tabulated list of neighborhoods and corresponding coordiates for Columbia online, I instead found a article about the characteristics of the neighborhoods in Columbia, SC. In this subsection, I will manully type in the names of each neighborhood and use the *geolocator.geocdoe* function to find the coordinates. \n",
    "In addition, for some neighborhoods, the *geolocator.geocode* had trouble finding the correct coordinates, so I will include *try*, *except* in my code and focus only on the neighborhoods with useful coordinates."
   ]
  },
  {
   "cell_type": "markdown",
   "metadata": {},
   "source": [
    "#### 2.2.2 Note: the geolocator can be unstable sometimes, refresh the code multiple times if needed\n",
    " "
   ]
  },
  {
   "cell_type": "code",
   "execution_count": 6,
   "metadata": {
    "collapsed": false
   },
   "outputs": [
    {
     "name": "stdout",
     "output_type": "stream",
     "text": [
      "The geograpical coordinate of Melrose Heights, SC are 34.0065447, -81.002591.\n",
      "The geograpical coordinate of Shandon, SC are 33.9982115, -81.0056467.\n",
      "The geograpical coordinate of Forest Acres, SC are 34.0193221, -80.9898128.\n",
      "The geograpical coordinate of Forest Hills, SC are 34.9793027, -81.2331298.\n",
      "The geograpical coordinate of Heathwood, SC are 33.9990448, -80.9864797.\n",
      "The geograpical coordinate of Rosewood, SC are 34.9126262, -81.8526023.\n",
      "The geograpical coordinate of Wildewood, SC are 34.1043185, -80.8820322.\n",
      "The geograpical coordinate of Lake Carolina,SC are 34.17484295, -80.8862830494948.\n",
      "The geograpical coordinate of Spring Valley,SC are 34.9112573, -80.929798.\n"
     ]
    },
    {
     "data": {
      "text/html": [
       "<div>\n",
       "<style scoped>\n",
       "    .dataframe tbody tr th:only-of-type {\n",
       "        vertical-align: middle;\n",
       "    }\n",
       "\n",
       "    .dataframe tbody tr th {\n",
       "        vertical-align: top;\n",
       "    }\n",
       "\n",
       "    .dataframe thead th {\n",
       "        text-align: right;\n",
       "    }\n",
       "</style>\n",
       "<table border=\"1\" class=\"dataframe\">\n",
       "  <thead>\n",
       "    <tr style=\"text-align: right;\">\n",
       "      <th></th>\n",
       "      <th>Neighborhood</th>\n",
       "      <th>Lat</th>\n",
       "      <th>Lng</th>\n",
       "    </tr>\n",
       "  </thead>\n",
       "  <tbody>\n",
       "    <tr>\n",
       "      <th>0</th>\n",
       "      <td>Melrose Heights, SC</td>\n",
       "      <td>34.0065</td>\n",
       "      <td>-81.0026</td>\n",
       "    </tr>\n",
       "    <tr>\n",
       "      <th>2</th>\n",
       "      <td>Shandon, SC</td>\n",
       "      <td>33.9982</td>\n",
       "      <td>-81.0056</td>\n",
       "    </tr>\n",
       "    <tr>\n",
       "      <th>3</th>\n",
       "      <td>Forest Acres, SC</td>\n",
       "      <td>34.0193</td>\n",
       "      <td>-80.9898</td>\n",
       "    </tr>\n",
       "    <tr>\n",
       "      <th>4</th>\n",
       "      <td>Forest Hills, SC</td>\n",
       "      <td>34.9793</td>\n",
       "      <td>-81.2331</td>\n",
       "    </tr>\n",
       "    <tr>\n",
       "      <th>5</th>\n",
       "      <td>Heathwood, SC</td>\n",
       "      <td>33.999</td>\n",
       "      <td>-80.9865</td>\n",
       "    </tr>\n",
       "    <tr>\n",
       "      <th>6</th>\n",
       "      <td>Rosewood, SC</td>\n",
       "      <td>34.9126</td>\n",
       "      <td>-81.8526</td>\n",
       "    </tr>\n",
       "    <tr>\n",
       "      <th>7</th>\n",
       "      <td>Wildewood, SC</td>\n",
       "      <td>34.1043</td>\n",
       "      <td>-80.882</td>\n",
       "    </tr>\n",
       "    <tr>\n",
       "      <th>8</th>\n",
       "      <td>Lake Carolina,SC</td>\n",
       "      <td>34.1748</td>\n",
       "      <td>-80.8863</td>\n",
       "    </tr>\n",
       "    <tr>\n",
       "      <th>9</th>\n",
       "      <td>Spring Valley,SC</td>\n",
       "      <td>34.9113</td>\n",
       "      <td>-80.9298</td>\n",
       "    </tr>\n",
       "  </tbody>\n",
       "</table>\n",
       "</div>"
      ],
      "text/plain": [
       "          Neighborhood      Lat      Lng\n",
       "0  Melrose Heights, SC  34.0065 -81.0026\n",
       "2          Shandon, SC  33.9982 -81.0056\n",
       "3     Forest Acres, SC  34.0193 -80.9898\n",
       "4     Forest Hills, SC  34.9793 -81.2331\n",
       "5        Heathwood, SC   33.999 -80.9865\n",
       "6         Rosewood, SC  34.9126 -81.8526\n",
       "7        Wildewood, SC  34.1043  -80.882\n",
       "8     Lake Carolina,SC  34.1748 -80.8863\n",
       "9     Spring Valley,SC  34.9113 -80.9298"
      ]
     },
     "execution_count": 6,
     "metadata": {},
     "output_type": "execute_result"
    }
   ],
   "source": [
    "columbia_neighborhoods = ['Melrose Heights, SC','Cottontown, SC','Shandon, SC','Forest Acres, SC','Forest Hills, SC','Heathwood, SC','Rosewood, SC','Wildewood, SC','Lake Carolina,SC','Spring Valley,SC']\n",
    "\n",
    "columbia = pd.DataFrame(columns = ['Neighborhood','Lat','Lng'])\n",
    "\n",
    "for i,neigh in enumerate(columbia_neighborhoods):\n",
    "    address = neigh\n",
    "    try:\n",
    "        geolocator = Nominatim(user_agent=\"hw\")\n",
    "        location = geolocator.geocode(address)\n",
    "        latitude = location.latitude\n",
    "        longitude = location.longitude\n",
    "        print('The geograpical coordinate of',neigh, 'are {}, {}.'.format(latitude, longitude))\n",
    "        columbia.loc[i,'Neighborhood'] = neigh\n",
    "        columbia.loc[i,'Lat'] = latitude\n",
    "        columbia.loc[i,'Lng'] = longitude\n",
    "    except:\n",
    "        pass\n",
    "    \n",
    "columbia"
   ]
  },
  {
   "cell_type": "code",
   "execution_count": 7,
   "metadata": {
    "collapsed": false
   },
   "outputs": [
    {
     "name": "stdout",
     "output_type": "stream",
     "text": [
      "The geograpical coordinate of Columbia are 34.0007493, -81.0343313.\n"
     ]
    }
   ],
   "source": [
    "# Note: the geolocator can be unstable sometimes, refresh the code multiple times if needed\n",
    "address2 = 'Columbia, SC'\n",
    "\n",
    "geolocator2 = Nominatim(user_agent=\"hw\")\n",
    "location2 = geolocator2.geocode(address2)\n",
    "latitude2 = location2.latitude\n",
    "longitude2 = location2.longitude\n",
    "print('The geograpical coordinate of Columbia are {}, {}.'.format(latitude2, longitude2))"
   ]
  },
  {
   "cell_type": "markdown",
   "metadata": {},
   "source": [
    "### 2.2.3 Generate a map for the neighborhoods with available coordiates for Columbia, SC"
   ]
  },
  {
   "cell_type": "code",
   "execution_count": 8,
   "metadata": {
    "collapsed": false
   },
   "outputs": [
    {
     "data": {
      "text/html": [
       "<div style=\"width:100%;\"><div style=\"position:relative;width:100%;height:0;padding-bottom:60%;\"><iframe src=\"data:text/html;charset=utf-8;base64,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\" style=\"position:absolute;width:100%;height:100%;left:0;top:0;border:none !important;\" allowfullscreen webkitallowfullscreen mozallowfullscreen></iframe></div></div>"
      ],
      "text/plain": [
       "<folium.folium.Map at 0x7f3898104128>"
      ]
     },
     "execution_count": 8,
     "metadata": {},
     "output_type": "execute_result"
    }
   ],
   "source": [
    "\n",
    "map_columbia = folium.Map(location=[latitude2, longitude2], zoom_start=8)\n",
    "\n",
    "# add markers to map\n",
    "for lat, lng, label in zip(columbia['Lat'], columbia['Lng'], columbia['Neighborhood']):\n",
    "    \n",
    "    label = folium.Popup(label, parse_html=True)\n",
    "    folium.CircleMarker(\n",
    "        [lat, lng],\n",
    "        radius=5,\n",
    "        popup=label,\n",
    "        color='blue',\n",
    "        fill=True,\n",
    "        fill_color='#3186cc',\n",
    "        fill_opacity=0.7,\n",
    "        parse_html=False).add_to(map_columbia)  \n",
    "    \n",
    "map_columbia"
   ]
  },
  {
   "cell_type": "markdown",
   "metadata": {},
   "source": [
    "## 2.3 Foursquare API Data"
   ]
  },
  {
   "cell_type": "markdown",
   "metadata": {},
   "source": [
    "In this subsection, I will use Foursquare API to get the venues in each neighborhood in both Miami and Columbia. \n",
    "The resultant data will be used to collect information on the number of venues available as well as the types of the venues. For example, how many restaurants or coffee shop or parks are present in each neighborhood; additionally, for restaurant-type venue, what types of cuisines are available (especially the one "
   ]
  },
  {
   "cell_type": "markdown",
   "metadata": {},
   "source": [
    "### 2.3.1 Define Foursquare Credentials and Version"
   ]
  },
  {
   "cell_type": "code",
   "execution_count": 14,
   "metadata": {
    "collapsed": false
   },
   "outputs": [],
   "source": [
    "CLIENT_ID = 'XYK2G5XLJP5KUOWHNW3JOGNPEWAN0JJPMIGWI4FR4J4PBOED' # your Foursquare ID\n",
    "CLIENT_SECRET = 'N2JRIJN1FQX2FUKND1NUTNNQSBBUYKUINHKM0S4ZKV5X2R1Z' # your Foursquare Secret\n",
    "VERSION = '20180605' # Foursquare API version\n"
   ]
  },
  {
   "cell_type": "markdown",
   "metadata": {},
   "source": [
    "#### 2.3.1 Define a function top 100 venues that are in the listed neighborhoods within a given radius for the target cities: Miami and Columbia (This was borrowed from the Lab with minor modification)"
   ]
  },
  {
   "cell_type": "code",
   "execution_count": 15,
   "metadata": {
    "collapsed": true
   },
   "outputs": [],
   "source": [
    "def getNearbyVenues(names, latitudes, longitudes, radius=500):\n",
    "    \n",
    "    venues_list=[]\n",
    "    for name, lat, lng in zip(names, latitudes, longitudes):\n",
    "        print(name)\n",
    "            \n",
    "        # create the API request URL\n",
    "        url = 'https://api.foursquare.com/v2/venues/explore?&client_id={}&client_secret={}&v={}&ll={},{}&radius={}&limit={}'.format(\n",
    "            CLIENT_ID, \n",
    "            CLIENT_SECRET, \n",
    "            VERSION, \n",
    "            lat, \n",
    "            lng, \n",
    "            radius, \n",
    "            LIMIT)\n",
    "            \n",
    "        try:    \n",
    "        # make the GET request\n",
    "          results = requests.get(url).json()['response']['groups'][0]['items']\n",
    "        \n",
    "        # return only relevant information for each nearby venue\n",
    "          venues_list.append([(\n",
    "            name, \n",
    "            lat, \n",
    "            lng, \n",
    "            v['venue']['name'], \n",
    "            v['venue']['location']['lat'], \n",
    "            v['venue']['location']['lng'],  \n",
    "            v['venue']['categories'][0]['name']) for v in results])\n",
    "            \n",
    "        except:    \n",
    "            print('unable to fetch data')\n",
    "    nearby_venues = pd.DataFrame([item for venue_list in venues_list for item in venue_list])\n",
    "    nearby_venues.columns = ['Neighborhood', \n",
    "                  'Neighborhood Latitude', \n",
    "                  'Neighborhood Longitude', \n",
    "                  'Venue', \n",
    "                  'Venue Latitude', \n",
    "                  'Venue Longitude', \n",
    "                  'Venue Category']\n",
    "       \n",
    "    return(nearby_venues)"
   ]
  },
  {
   "cell_type": "markdown",
   "metadata": {},
   "source": [
    "### 2.3.2 Run the above function on each neighborhood and create two new dataframes called *miami_venues*, and *columbia_venues* resectively."
   ]
  },
  {
   "cell_type": "code",
   "execution_count": 16,
   "metadata": {
    "collapsed": false,
    "scrolled": true
   },
   "outputs": [
    {
     "name": "stdout",
     "output_type": "stream",
     "text": [
      "***** Miami ********\n",
      "Allapattah\n",
      "Arts & Entertainment District\n",
      "Brickell\n",
      "Buena Vista\n",
      "Coconut Grove\n",
      "Coral Way\n",
      "Design District\n",
      "Downtown\n",
      "Edgewater\n",
      "Flagami\n",
      "Grapeland Heights\n",
      "Liberty City\n",
      "Little Haiti\n",
      "Little Havana\n",
      "Lummus Park\n",
      "Midtown\n",
      "Overtown\n",
      "Park West\n",
      "The Roads\n",
      "Upper Eastside\n",
      "Venetian Islands\n",
      "Virginia Key\n",
      "West Flagler\n",
      "Wynwood\n",
      "***** Columbia *******\n",
      "Melrose Heights, SC\n",
      "Shandon, SC\n",
      "Forest Acres, SC\n",
      "Forest Hills, SC\n",
      "Heathwood, SC\n",
      "Rosewood, SC\n",
      "Wildewood, SC\n",
      "Lake Carolina,SC\n",
      "Spring Valley,SC\n"
     ]
    }
   ],
   "source": [
    "LIMIT = 100\n",
    "\n",
    "print(\"***** Miami ********\")\n",
    "miami_venues   = getNearbyVenues(names=miami['Neighborhood'],\n",
    "                                   latitudes=miami['Lat'],\n",
    "                                   longitudes=miami['Lng']\n",
    "                                  )\n",
    "\n",
    "print(\"***** Columbia *******\")\n",
    "columbia_venues = getNearbyVenues(names = columbia['Neighborhood'],\n",
    "                                 latitudes = columbia['Lat'],\n",
    "                                 longitudes = columbia['Lng']\n",
    "                                 )"
   ]
  },
  {
   "cell_type": "markdown",
   "metadata": {},
   "source": [
    "### 2.3.3 Check the size of the resulting dataframe"
   ]
  },
  {
   "cell_type": "code",
   "execution_count": 19,
   "metadata": {
    "collapsed": false
   },
   "outputs": [
    {
     "name": "stdout",
     "output_type": "stream",
     "text": [
      "Miami: (557, 7)\n"
     ]
    },
    {
     "data": {
      "text/html": [
       "<div>\n",
       "<style scoped>\n",
       "    .dataframe tbody tr th:only-of-type {\n",
       "        vertical-align: middle;\n",
       "    }\n",
       "\n",
       "    .dataframe tbody tr th {\n",
       "        vertical-align: top;\n",
       "    }\n",
       "\n",
       "    .dataframe thead th {\n",
       "        text-align: right;\n",
       "    }\n",
       "</style>\n",
       "<table border=\"1\" class=\"dataframe\">\n",
       "  <thead>\n",
       "    <tr style=\"text-align: right;\">\n",
       "      <th></th>\n",
       "      <th>Neighborhood</th>\n",
       "      <th>Neighborhood Latitude</th>\n",
       "      <th>Neighborhood Longitude</th>\n",
       "      <th>Venue</th>\n",
       "      <th>Venue Latitude</th>\n",
       "      <th>Venue Longitude</th>\n",
       "      <th>Venue Category</th>\n",
       "    </tr>\n",
       "  </thead>\n",
       "  <tbody>\n",
       "    <tr>\n",
       "      <th>0</th>\n",
       "      <td>Allapattah</td>\n",
       "      <td>25.815</td>\n",
       "      <td>-80.224</td>\n",
       "      <td>Three Fingers Liquor &amp; Lounge</td>\n",
       "      <td>25.815523</td>\n",
       "      <td>-80.224406</td>\n",
       "      <td>Lounge</td>\n",
       "    </tr>\n",
       "    <tr>\n",
       "      <th>1</th>\n",
       "      <td>Allapattah</td>\n",
       "      <td>25.815</td>\n",
       "      <td>-80.224</td>\n",
       "      <td>noor market</td>\n",
       "      <td>25.818165</td>\n",
       "      <td>-80.224197</td>\n",
       "      <td>Convenience Store</td>\n",
       "    </tr>\n",
       "    <tr>\n",
       "      <th>2</th>\n",
       "      <td>Allapattah</td>\n",
       "      <td>25.815</td>\n",
       "      <td>-80.224</td>\n",
       "      <td>Conde Art Gallery</td>\n",
       "      <td>25.818671</td>\n",
       "      <td>-80.224548</td>\n",
       "      <td>Art Gallery</td>\n",
       "    </tr>\n",
       "    <tr>\n",
       "      <th>3</th>\n",
       "      <td>Arts &amp; Entertainment District</td>\n",
       "      <td>25.799</td>\n",
       "      <td>-80.190</td>\n",
       "      <td>Bunnie Cakes</td>\n",
       "      <td>25.799544</td>\n",
       "      <td>-80.190953</td>\n",
       "      <td>Cupcake Shop</td>\n",
       "    </tr>\n",
       "    <tr>\n",
       "      <th>4</th>\n",
       "      <td>Arts &amp; Entertainment District</td>\n",
       "      <td>25.799</td>\n",
       "      <td>-80.190</td>\n",
       "      <td>Bunbury Miami</td>\n",
       "      <td>25.798284</td>\n",
       "      <td>-80.191118</td>\n",
       "      <td>Wine Shop</td>\n",
       "    </tr>\n",
       "  </tbody>\n",
       "</table>\n",
       "</div>"
      ],
      "text/plain": [
       "                    Neighborhood  Neighborhood Latitude  \\\n",
       "0                     Allapattah                 25.815   \n",
       "1                     Allapattah                 25.815   \n",
       "2                     Allapattah                 25.815   \n",
       "3  Arts & Entertainment District                 25.799   \n",
       "4  Arts & Entertainment District                 25.799   \n",
       "\n",
       "   Neighborhood Longitude                          Venue  Venue Latitude  \\\n",
       "0                 -80.224  Three Fingers Liquor & Lounge       25.815523   \n",
       "1                 -80.224                    noor market       25.818165   \n",
       "2                 -80.224              Conde Art Gallery       25.818671   \n",
       "3                 -80.190                   Bunnie Cakes       25.799544   \n",
       "4                 -80.190                  Bunbury Miami       25.798284   \n",
       "\n",
       "   Venue Longitude     Venue Category  \n",
       "0       -80.224406             Lounge  \n",
       "1       -80.224197  Convenience Store  \n",
       "2       -80.224548        Art Gallery  \n",
       "3       -80.190953       Cupcake Shop  \n",
       "4       -80.191118          Wine Shop  "
      ]
     },
     "execution_count": 19,
     "metadata": {},
     "output_type": "execute_result"
    }
   ],
   "source": [
    "print(\"Miami:\",miami_venues.shape)\n",
    "miami_venues.head()"
   ]
  },
  {
   "cell_type": "code",
   "execution_count": 20,
   "metadata": {},
   "outputs": [
    {
     "name": "stdout",
     "output_type": "stream",
     "text": [
      "Columbia: (51, 7)\n"
     ]
    },
    {
     "data": {
      "text/html": [
       "<div>\n",
       "<style scoped>\n",
       "    .dataframe tbody tr th:only-of-type {\n",
       "        vertical-align: middle;\n",
       "    }\n",
       "\n",
       "    .dataframe tbody tr th {\n",
       "        vertical-align: top;\n",
       "    }\n",
       "\n",
       "    .dataframe thead th {\n",
       "        text-align: right;\n",
       "    }\n",
       "</style>\n",
       "<table border=\"1\" class=\"dataframe\">\n",
       "  <thead>\n",
       "    <tr style=\"text-align: right;\">\n",
       "      <th></th>\n",
       "      <th>Neighborhood</th>\n",
       "      <th>Neighborhood Latitude</th>\n",
       "      <th>Neighborhood Longitude</th>\n",
       "      <th>Venue</th>\n",
       "      <th>Venue Latitude</th>\n",
       "      <th>Venue Longitude</th>\n",
       "      <th>Venue Category</th>\n",
       "    </tr>\n",
       "  </thead>\n",
       "  <tbody>\n",
       "    <tr>\n",
       "      <th>0</th>\n",
       "      <td>Melrose Heights, SC</td>\n",
       "      <td>34.006545</td>\n",
       "      <td>-81.002591</td>\n",
       "      <td>Long's Drugs</td>\n",
       "      <td>34.003504</td>\n",
       "      <td>-81.002401</td>\n",
       "      <td>Pharmacy</td>\n",
       "    </tr>\n",
       "    <tr>\n",
       "      <th>1</th>\n",
       "      <td>Melrose Heights, SC</td>\n",
       "      <td>34.006545</td>\n",
       "      <td>-81.002591</td>\n",
       "      <td>New York Butcher Shoppe</td>\n",
       "      <td>34.009827</td>\n",
       "      <td>-81.004168</td>\n",
       "      <td>Butcher</td>\n",
       "    </tr>\n",
       "    <tr>\n",
       "      <th>2</th>\n",
       "      <td>Melrose Heights, SC</td>\n",
       "      <td>34.006545</td>\n",
       "      <td>-81.002591</td>\n",
       "      <td>Mill Creek Pet Food/Grooming Center</td>\n",
       "      <td>34.003133</td>\n",
       "      <td>-81.000803</td>\n",
       "      <td>Pet Store</td>\n",
       "    </tr>\n",
       "    <tr>\n",
       "      <th>3</th>\n",
       "      <td>Melrose Heights, SC</td>\n",
       "      <td>34.006545</td>\n",
       "      <td>-81.002591</td>\n",
       "      <td>Glorious Hill</td>\n",
       "      <td>34.010235</td>\n",
       "      <td>-81.001519</td>\n",
       "      <td>Cocktail Bar</td>\n",
       "    </tr>\n",
       "    <tr>\n",
       "      <th>4</th>\n",
       "      <td>Shandon, SC</td>\n",
       "      <td>33.998211</td>\n",
       "      <td>-81.005647</td>\n",
       "      <td>Craft And Draft</td>\n",
       "      <td>33.998067</td>\n",
       "      <td>-81.005111</td>\n",
       "      <td>Beer Store</td>\n",
       "    </tr>\n",
       "  </tbody>\n",
       "</table>\n",
       "</div>"
      ],
      "text/plain": [
       "          Neighborhood  Neighborhood Latitude  Neighborhood Longitude  \\\n",
       "0  Melrose Heights, SC              34.006545              -81.002591   \n",
       "1  Melrose Heights, SC              34.006545              -81.002591   \n",
       "2  Melrose Heights, SC              34.006545              -81.002591   \n",
       "3  Melrose Heights, SC              34.006545              -81.002591   \n",
       "4          Shandon, SC              33.998211              -81.005647   \n",
       "\n",
       "                                 Venue  Venue Latitude  Venue Longitude  \\\n",
       "0                         Long's Drugs       34.003504       -81.002401   \n",
       "1              New York Butcher Shoppe       34.009827       -81.004168   \n",
       "2  Mill Creek Pet Food/Grooming Center       34.003133       -81.000803   \n",
       "3                        Glorious Hill       34.010235       -81.001519   \n",
       "4                      Craft And Draft       33.998067       -81.005111   \n",
       "\n",
       "  Venue Category  \n",
       "0       Pharmacy  \n",
       "1        Butcher  \n",
       "2      Pet Store  \n",
       "3   Cocktail Bar  \n",
       "4     Beer Store  "
      ]
     },
     "execution_count": 20,
     "metadata": {},
     "output_type": "execute_result"
    }
   ],
   "source": [
    "print(\"Columbia:\",columbia_venues.shape)\n",
    "columbia_venues.head()"
   ]
  }
 ],
 "metadata": {
  "kernelspec": {
   "display_name": "Python 3",
   "language": "python",
   "name": "python3"
  },
  "language_info": {
   "codemirror_mode": {
    "name": "ipython",
    "version": 3
   },
   "file_extension": ".py",
   "mimetype": "text/x-python",
   "name": "python",
   "nbconvert_exporter": "python",
   "pygments_lexer": "ipython3",
   "version": "3.6.8"
  }
 },
 "nbformat": 4,
 "nbformat_minor": 2
}
